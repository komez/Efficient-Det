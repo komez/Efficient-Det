{
 "cells": [
  {
   "cell_type": "code",
   "execution_count": 1,
   "metadata": {},
   "outputs": [],
   "source": [
    "import glob\n",
    "import cv2\n",
    "import matplotlib.pyplot as plt\n",
    "import numpy as np\n",
    "import os\n",
    "import matplotlib.pyplot as plt\n",
    "from sklearn import preprocessing as pp\n",
    "from skimage import exposure\n",
    "from skimage.util.dtype import dtype_range\n",
    "import sys\n",
    "from scipy.ndimage.filters import gaussian_filter\n",
    "import shutil\n",
    "import random\n",
    "\n",
    "\n",
    "os.environ['OPENCV_IO_ENABLE_JASPER']= 'TRUE'\n",
    "\n",
    "import json\n",
    "import glob\n",
    "import collections as cl\n",
    "import shutil\n"
   ]
  },
  {
   "cell_type": "markdown",
   "metadata": {},
   "source": [
    "# train,valに分かれた未処理データのフォルダを用意する。\n",
    "・jpgフォルダxml_tra, xml_val作成  \n",
    "・xmlフォルダxml_tra, xml_val作成"
   ]
  },
  {
   "cell_type": "code",
   "execution_count": 8,
   "metadata": {},
   "outputs": [],
   "source": [
    "save_dir = \"/Usersdata/kome/Drshirasaki/DrShirasaki/secretion_prediction/ssd/CytokineRelease_Dataset/CytokineRelease/Efficient_det_data/row_data/\"\n",
    "save_jpg = \"/Usersdata/kome/Drshirasaki/DrShirasaki/secretion_prediction/ssd/CytokineRelease_Dataset/CytokineRelease/Efficient_det_data/datasets/\"\n",
    "img_dir = \"/Usersdata/kome/Drshirasaki/DrShirasaki/secretion_prediction/ssd/CytokineRelease_Dataset/CytokineRelease/JPEGImages_rotate0916\"\n",
    "xml_dir = \"/Usersdata/kome/Drshirasaki/DrShirasaki/secretion_prediction/ssd/CytokineRelease_Dataset/CytokineRelease/converted_labels_rotate\"\n",
    "\n",
    "os.makedirs(save_dir,exist_ok=True)"
   ]
  },
  {
   "cell_type": "code",
   "execution_count": null,
   "metadata": {},
   "outputs": [],
   "source": [
    "files=glob.glob(xml_dir+\"/*.xml\")\n",
    "train_size=0.7\n",
    "random.shuffle(files)\n",
    "index = int(len(files) * train_size)\n",
    "\n",
    "xml_tra = save_dir + \"xml_tra20201012/\"\n",
    "xml_val = save_dir + \"xml_val20201012/\"\n",
    "jpg_tra = save_dir + \"datasets20201012/train_data/\"\n",
    "jpg_val = save_dir + \"datasets20201012/val_data/\"\n",
    "\n",
    "os.makedirs(xml_tra, exist_ok=True)\n",
    "os.makedirs(xml_val, exist_ok=True)\n",
    "os.makedirs(jpg_tra, exist_ok=True)\n",
    "os.makedirs(jpg_val, exist_ok=True)"
   ]
  },
  {
   "cell_type": "code",
   "execution_count": null,
   "metadata": {},
   "outputs": [],
   "source": [
    "for file in files[:index]:\n",
    "    #xmlの保存\n",
    "    name_xml=os.path.basename(file)\n",
    "    shutil.copy(file, xml_tra)\n",
    "    \n",
    "    # jp2 を jpgで保存\n",
    "    name_jp2 = name_xml.replace(\".xml\",\".jp2\")\n",
    "    f = cv2.imread(img_dir + \"/\" + name_jp2)\n",
    "    cv2.imwrite(jpg_tra  + name_jp2.replace(\".jp2\",\".jpg\"), f)"
   ]
  },
  {
   "cell_type": "code",
   "execution_count": 12,
   "metadata": {},
   "outputs": [],
   "source": [
    "for file in files[index:]:\n",
    "    #xmlの保存\n",
    "    name_xml=os.path.basename(file)\n",
    "    shutil.copy(file, xml_val)\n",
    "    \n",
    "    # jp2 を jpgで保存\n",
    "    name_jp2 = name_xml.replace(\".xml\",\".jp2\")\n",
    "    f = cv2.imread(img_dir  + \"/\" + name_jp2)\n",
    "    cv2.imwrite(jpg_val  + name_jp2.replace(\".jp2\",\".jpg\"), f)    "
   ]
  },
  {
   "cell_type": "code",
   "execution_count": null,
   "metadata": {},
   "outputs": [],
   "source": []
  },
  {
   "cell_type": "code",
   "execution_count": null,
   "metadata": {},
   "outputs": [],
   "source": []
  }
 ],
 "metadata": {
  "kernelspec": {
   "display_name": "Python 3",
   "language": "python",
   "name": "python3"
  },
  "language_info": {
   "codemirror_mode": {
    "name": "ipython",
    "version": 3
   },
   "file_extension": ".py",
   "mimetype": "text/x-python",
   "name": "python",
   "nbconvert_exporter": "python",
   "pygments_lexer": "ipython3",
   "version": "3.5.2"
  }
 },
 "nbformat": 4,
 "nbformat_minor": 2
}
